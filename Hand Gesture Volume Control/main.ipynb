{
 "cells": [
  {
   "cell_type": "code",
   "execution_count": 3,
   "metadata": {},
   "outputs": [],
   "source": [
    "import cv2  \n",
    "import mediapipe as mp  \n",
    "import pyautogui"
   ]
  },
  {
   "cell_type": "code",
   "execution_count": 11,
   "metadata": {},
   "outputs": [],
   "source": [
    "x1=y1=x2=y2=0\n",
    "\n",
    "webcamp=cv2.VideoCapture(0)\n",
    "my_hands=mp.solutions.hands.Hands()\n",
    "drawing_utils=mp.solutions.drawing_utils\n",
    "\n",
    "while True:\n",
    "    _ ,image =webcamp.read()\n",
    "    image=cv2.flip(image,1)\n",
    "    frame_height,frame_width,_=image.shape\n",
    "    rgb_image=cv2.cvtColor(image,cv2.COLOR_BGR2RGB)\n",
    "    output=my_hands.process(rgb_image)\n",
    "    hands=output.multi_hand_landmarks\n",
    "\n",
    "    \n",
    "    if hands:\n",
    "        for hand in hands:\n",
    "            drawing_utils.draw_landmarks(image,hand)\n",
    "            landmarks = hand.landmark\n",
    "\n",
    "            for id, landmark in enumerate(landmarks):\n",
    "                x=int(landmark.x * frame_width)\n",
    "                y=int(landmark.y * frame_height)\n",
    "                if id==8:\n",
    "                    cv2.circle(img=image,center=(x,y),radius=8,color=(0,255,255),thickness=3)\n",
    "                    x1=x\n",
    "                    y1=y\n",
    "                if id==4:\n",
    "                    cv2.circle(img=image,center=(x,y),radius=8,color=(0,0,255),thickness=3)\n",
    "                    x2=x\n",
    "                    y2=y\n",
    "\n",
    "        dist=((x2-x1)**2 + (y2-y1)**2)**(0.5)//4\n",
    "        cv2.line(image,(x1,y1),(x2,y2),(153,0,0),5)\n",
    "\n",
    "        if dist>50:\n",
    "            pyautogui.press(\"Volumeup\")\n",
    "        else:\n",
    "            pyautogui.press(\"Volumedown\")\n",
    "\n",
    "    cv2.imshow(\"Hand volume control using python\",image)\n",
    "    key=cv2.waitKey(10)\n",
    "    if key==27:\n",
    "        break\n",
    "webcamp.release()\n",
    "cv2.destroyAllWindows()"
   ]
  }
 ],
 "metadata": {
  "kernelspec": {
   "display_name": "Python 3",
   "language": "python",
   "name": "python3"
  },
  "language_info": {
   "codemirror_mode": {
    "name": "ipython",
    "version": 3
   },
   "file_extension": ".py",
   "mimetype": "text/x-python",
   "name": "python",
   "nbconvert_exporter": "python",
   "pygments_lexer": "ipython3",
   "version": "3.11.6"
  }
 },
 "nbformat": 4,
 "nbformat_minor": 2
}
